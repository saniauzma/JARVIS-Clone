{
 "cells": [
  {
   "cell_type": "markdown",
   "metadata": {
    "collapsed": true
   },
   "source": [
    "!pip install pyttsx3\n",
    "!pip install SpeechRecognition\n",
    "!pip install pywhatkit\n",
    "!pip install wikipedia\n",
    "!pip install requests"
   ]
  },
  {
   "cell_type": "markdown",
   "metadata": {},
   "source": [
    "pip install python-decouple"
   ]
  },
  {
   "cell_type": "code",
   "execution_count": 3,
   "metadata": {},
   "outputs": [
    {
     "data": {
      "text/plain": [
       "True"
      ]
     },
     "execution_count": 3,
     "metadata": {},
     "output_type": "execute_result"
    }
   ],
   "source": [
    "from dotenv import load_dotenv\n",
    "\n",
    "load_dotenv()"
   ]
  },
  {
   "cell_type": "code",
   "execution_count": 4,
   "metadata": {},
   "outputs": [
    {
     "name": "stdout",
     "output_type": "stream",
     "text": [
      "PARDEEP JARVIS\n"
     ]
    }
   ],
   "source": [
    "from decouple import config\n",
    "\n",
    "user = config('USER')\n",
    "stage = config('BOTNAME')\n",
    "\n",
    "print(user, stage)"
   ]
  },
  {
   "cell_type": "code",
   "execution_count": 5,
   "metadata": {},
   "outputs": [],
   "source": [
    "import pyttsx3\n",
    "from decouple import config\n",
    "\n",
    "USERNAME = config('USER')\n",
    "BOTNAME = config('BOTNAME')\n",
    "\n",
    "\n",
    "engine = pyttsx3.init('sapi5')\n",
    "\n",
    "# Set Rate\n",
    "engine.setProperty('rate', 190)\n",
    "\n",
    "# Set Volume\n",
    "engine.setProperty('volume', 1.0)\n",
    "\n",
    "# Set Voice (Female)\n",
    "voices = engine.getProperty('voices')\n",
    "engine.setProperty('voice', voices[1].id)"
   ]
  },
  {
   "cell_type": "code",
   "execution_count": 6,
   "metadata": {},
   "outputs": [],
   "source": [
    "# Text to Speech Conversion\n",
    "def speak(text):\n",
    "    \"\"\"Used to speak whatever text is passed to it\"\"\"\n",
    "    \n",
    "    engine.say(text)\n",
    "    engine.runAndWait()"
   ]
  },
  {
   "cell_type": "code",
   "execution_count": 7,
   "metadata": {},
   "outputs": [],
   "source": [
    "speak(\"I am the best.\")"
   ]
  },
  {
   "cell_type": "code",
   "execution_count": 8,
   "metadata": {},
   "outputs": [],
   "source": [
    "from datetime import datetime\n",
    "\n",
    "\n",
    "def greet_user():\n",
    "    \"\"\"Greets the user according to the time\"\"\"\n",
    "    \n",
    "    hour = datetime.now().hour\n",
    "    if (hour >= 6) and (hour < 12):\n",
    "        speak(f\"Good Morning {USERNAME}\")\n",
    "    elif (hour >= 12) and (hour < 16):\n",
    "        speak(f\"Good afternoon {USERNAME}\")\n",
    "    elif (hour >= 16) and (hour < 19):\n",
    "        speak(f\"Good Evening {USERNAME}\")\n",
    "    speak(f\"I am {BOTNAME}. How may I assist you?\")"
   ]
  },
  {
   "cell_type": "code",
   "execution_count": 9,
   "metadata": {},
   "outputs": [],
   "source": [
    "greet_user()"
   ]
  },
  {
   "cell_type": "code",
   "execution_count": 21,
   "metadata": {},
   "outputs": [
    {
     "ename": "ImportError",
     "evalue": "cannot import name 'opening_text' from 'utils' (C:\\ProgramData\\Anaconda3\\lib\\site-packages\\utils\\__init__.py)",
     "output_type": "error",
     "traceback": [
      "\u001b[1;31m---------------------------------------------------------------------------\u001b[0m",
      "\u001b[1;31mImportError\u001b[0m                               Traceback (most recent call last)",
      "\u001b[1;32m<ipython-input-21-5a2613f946bd>\u001b[0m in \u001b[0;36m<module>\u001b[1;34m\u001b[0m\n\u001b[0;32m      1\u001b[0m \u001b[1;32mimport\u001b[0m \u001b[0mspeech_recognition\u001b[0m \u001b[1;32mas\u001b[0m \u001b[0msr\u001b[0m\u001b[1;33m\u001b[0m\u001b[1;33m\u001b[0m\u001b[0m\n\u001b[0;32m      2\u001b[0m \u001b[1;32mfrom\u001b[0m \u001b[0mrandom\u001b[0m \u001b[1;32mimport\u001b[0m \u001b[0mchoice\u001b[0m\u001b[1;33m\u001b[0m\u001b[1;33m\u001b[0m\u001b[0m\n\u001b[1;32m----> 3\u001b[1;33m \u001b[1;32mfrom\u001b[0m \u001b[0mutils\u001b[0m \u001b[1;32mimport\u001b[0m \u001b[0mopening_text\u001b[0m\u001b[1;33m\u001b[0m\u001b[1;33m\u001b[0m\u001b[0m\n\u001b[0m\u001b[0;32m      4\u001b[0m \u001b[1;33m\u001b[0m\u001b[0m\n\u001b[0;32m      5\u001b[0m \u001b[1;33m\u001b[0m\u001b[0m\n",
      "\u001b[1;31mImportError\u001b[0m: cannot import name 'opening_text' from 'utils' (C:\\ProgramData\\Anaconda3\\lib\\site-packages\\utils\\__init__.py)"
     ]
    }
   ],
   "source": [
    "import speech_recognition as sr\n",
    "from random import choice\n",
    "from utils import opening_text\n",
    "\n",
    "\n",
    "def take_user_input():\n",
    "    \"\"\"Takes user input, recognizes it using Speech Recognition module and converts it into text\"\"\"\n",
    "\n",
    "    r = sr.Recognizer()\n",
    "    with sr.Microphone() as source:\n",
    "        print('Listening....')\n",
    "        r.pause_threshold = 1\n",
    "        audio = r.listen(source)\n",
    "\n",
    "    try:\n",
    "        print('Recognizing...')\n",
    "        query = r.recognize_google(audio, language='en-in')\n",
    "        if not 'exit' in query or 'stop' in query:\n",
    "            speak(choice(opening_text))\n",
    "        else:\n",
    "            hour = datetime.now().hour\n",
    "            if hour >= 21 and hour < 6:\n",
    "                speak(\"Good night sir, take care!\")\n",
    "            else:\n",
    "                speak('Have a good day sir!')\n",
    "            exit()\n",
    "    except Exception:\n",
    "        speak('Sorry, I could not understand. Could you please say that again?')\n",
    "        query = 'None'\n",
    "    return query"
   ]
  },
  {
   "cell_type": "code",
   "execution_count": null,
   "metadata": {},
   "outputs": [],
   "source": [
    "import os\n",
    "import subprocess as sp\n",
    "\n",
    "paths = {\n",
    "    'calculator': \"C:\\\\Windows\\\\System32\\\\calc.exe\"\n",
    "}"
   ]
  },
  {
   "cell_type": "code",
   "execution_count": null,
   "metadata": {},
   "outputs": [],
   "source": [
    "def open_camera():\n",
    "    sp.run('start microsoft.windows.camera:', shell=True)"
   ]
  },
  {
   "cell_type": "code",
   "execution_count": null,
   "metadata": {},
   "outputs": [],
   "source": [
    "def open_cmd():\n",
    "    os.system('start cmd')"
   ]
  },
  {
   "cell_type": "code",
   "execution_count": null,
   "metadata": {},
   "outputs": [],
   "source": [
    "def open_calculator():\n",
    "    sp.Popen(paths['calculator'])"
   ]
  },
  {
   "cell_type": "code",
   "execution_count": null,
   "metadata": {},
   "outputs": [],
   "source": [
    "import requests\n",
    "import wikipedia\n",
    "import pywhatkit as kit\n",
    "from email.message import EmailMessage\n",
    "import smtplib\n",
    "from decouple import config"
   ]
  },
  {
   "cell_type": "code",
   "execution_count": null,
   "metadata": {},
   "outputs": [],
   "source": [
    "def search_on_wikipedia(query):\n",
    "    results = wikipedia.summary(query, sentences=2)\n",
    "    return results"
   ]
  },
  {
   "cell_type": "code",
   "execution_count": null,
   "metadata": {},
   "outputs": [],
   "source": [
    "def play_on_youtube(video):\n",
    "    kit.playonyt(video)"
   ]
  },
  {
   "cell_type": "code",
   "execution_count": null,
   "metadata": {},
   "outputs": [],
   "source": [
    "def search_on_google(query):\n",
    "    kit.search(query)"
   ]
  },
  {
   "cell_type": "code",
   "execution_count": null,
   "metadata": {},
   "outputs": [],
   "source": [
    "def send_whatsapp_message(number, message):\n",
    "    kit.sendwhatmsg_instantly(f\"+91{number}\", message)"
   ]
  },
  {
   "cell_type": "code",
   "execution_count": null,
   "metadata": {},
   "outputs": [],
   "source": [
    "EMAIL = config(\"EMAIL\")\n",
    "PASSWORD = config(\"PASSWORD\")\n",
    "\n",
    "\n",
    "def send_email(receiver_address, subject, message):\n",
    "    try:\n",
    "        email = EmailMessage()\n",
    "        email['To'] = receiver_address\n",
    "        email[\"Subject\"] = subject\n",
    "        email['From'] = EMAIL\n",
    "        email.set_content(message)\n",
    "        s = smtplib.SMTP(\"smtp.gmail.com\", 587)\n",
    "        s.starttls()\n",
    "        s.login(EMAIL, PASSWORD)\n",
    "        s.send_message(email)\n",
    "        s.close()\n",
    "        return True\n",
    "    except Exception as e:\n",
    "        print(e)\n",
    "        return False"
   ]
  },
  {
   "cell_type": "code",
   "execution_count": null,
   "metadata": {},
   "outputs": [],
   "source": [
    "NEWS_API_KEY = config(\"NEWS_API_KEY\")\n",
    "\n",
    "\n",
    "def get_latest_news():\n",
    "    news_headlines = []\n",
    "    res = requests.get(\n",
    "        f\"https://newsapi.org/v2/top-headlines?country=in&apiKey={NEWS_API_KEY}&category=general\").json()\n",
    "    articles = res[\"articles\"]\n",
    "    for article in articles:\n",
    "        news_headlines.append(article[\"title\"])\n",
    "    return "
   ]
  },
  {
   "cell_type": "code",
   "execution_count": null,
   "metadata": {},
   "outputs": [],
   "source": [
    "OPENWEATHER_APP_ID = config(\"OPENWEATHER_APP_ID\")\n",
    "\n",
    "\n",
    "def get_weather_report(city):\n",
    "    res = requests.get(\n",
    "        f\"http://api.openweathermap.org/data/2.5/weather?q={city}&appid={OPENWEATHER_APP_ID}&units=metric\").json()\n",
    "    weather = res[\"weather\"][0][\"main\"]\n",
    "    temperature = res[\"main\"][\"temp\"]\n",
    "    feels_like = res[\"main\"][\"feels_like\"]\n",
    "    return weather, f\"{temperature}℃\", f\"{feels_like}℃\""
   ]
  },
  {
   "cell_type": "code",
   "execution_count": null,
   "metadata": {},
   "outputs": [],
   "source": [
    "TMDB_API_KEY = config(\"TMDB_API_KEY\")\n",
    "\n",
    "\n",
    "def get_trending_movies():\n",
    "    trending_movies = []\n",
    "    res = requests.get(\n",
    "        f\"https://api.themoviedb.org/3/trending/movie/day?api_key={TMDB_API_KEY}\").json()\n",
    "    results = res[\"results\"]\n",
    "    for r in results:\n",
    "        trending_movies.append(r[\"original_title\"])\n",
    "    return trending_movies[:5]\n"
   ]
  },
  {
   "cell_type": "code",
   "execution_count": null,
   "metadata": {},
   "outputs": [],
   "source": [
    "def get_random_joke():\n",
    "    headers = {\n",
    "        'Accept': 'application/json'\n",
    "    }\n",
    "    res = requests.get(\"https://icanhazdadjoke.com/\", headers=headers).json()\n",
    "    return res[\"joke\"]"
   ]
  },
  {
   "cell_type": "code",
   "execution_count": null,
   "metadata": {},
   "outputs": [],
   "source": [
    "def get_random_advice():\n",
    "    res = requests.get(\"https://api.adviceslip.com/advice\").json()\n",
    "    return res['slip']['advice']"
   ]
  },
  {
   "cell_type": "code",
   "execution_count": null,
   "metadata": {},
   "outputs": [],
   "source": [
    "import requests\n",
    "from functions.online_ops import find_my_ip, get_latest_news, get_random_advice, get_random_joke, get_trending_movies, get_weather_report, play_on_youtube, search_on_google, search_on_wikipedia, send_email, send_whatsapp_message\n",
    "from functions.os_ops import open_calculator, open_camera, open_cmd, open_notepad, open_discord\n",
    "from pprint import pprint\n",
    "\n",
    "\n",
    "if __name__ == '__main__':\n",
    "    greet_user()\n",
    "    while True:\n",
    "        query = take_user_input().lower()\n",
    "\n",
    "        if 'open notepad' in query:\n",
    "            open_notepad()\n",
    "\n",
    "        elif 'open discord' in query:\n",
    "            open_discord()\n",
    "\n",
    "        elif 'open command prompt' in query or 'open cmd' in query:\n",
    "            open_cmd()\n",
    "\n",
    "        elif 'open camera' in query:\n",
    "            open_camera()\n",
    "\n",
    "        elif 'open calculator' in query:\n",
    "            open_calculator()\n",
    "\n",
    "        elif 'ip address' in query:\n",
    "            ip_address = find_my_ip()\n",
    "            speak(f'Your IP Address is {ip_address}.\\n For your convenience, I am printing it on the screen sir.')\n",
    "            print(f'Your IP Address is {ip_address}')\n",
    "\n",
    "        elif 'wikipedia' in query:\n",
    "            speak('What do you want to search on Wikipedia, sir?')\n",
    "            search_query = take_user_input().lower()\n",
    "            results = search_on_wikipedia(search_query)\n",
    "            speak(f\"According to Wikipedia, {results}\")\n",
    "            speak(\"For your convenience, I am printing it on the screen sir.\")\n",
    "            print(results)\n",
    "\n",
    "        elif 'youtube' in query:\n",
    "            speak('What do you want to play on Youtube, sir?')\n",
    "            video = take_user_input().lower()\n",
    "            play_on_youtube(video)\n",
    "\n",
    "        elif 'search on google' in query:\n",
    "            speak('What do you want to search on Google, sir?')\n",
    "            query = take_user_input().lower()\n",
    "            search_on_google(query)\n",
    "\n",
    "        elif \"send whatsapp message\" in query:\n",
    "            speak('On what number should I send the message sir? Please enter in the console: ')\n",
    "            number = input(\"Enter the number: \")\n",
    "            speak(\"What is the message sir?\")\n",
    "            message = take_user_input().lower()\n",
    "            send_whatsapp_message(number, message)\n",
    "            speak(\"I've sent the message sir.\")\n",
    "\n",
    "        elif \"send an email\" in query:\n",
    "            speak(\"On what email address do I send sir? Please enter in the console: \")\n",
    "            receiver_address = input(\"Enter email address: \")\n",
    "            speak(\"What should be the subject sir?\")\n",
    "            subject = take_user_input().capitalize()\n",
    "            speak(\"What is the message sir?\")\n",
    "            message = take_user_input().capitalize()\n",
    "            if send_email(receiver_address, subject, message):\n",
    "                speak(\"I've sent the email sir.\")\n",
    "            else:\n",
    "                speak(\"Something went wrong while I was sending the mail. Please check the error logs sir.\")\n",
    "\n",
    "        elif 'joke' in query:\n",
    "            speak(f\"Hope you like this one sir\")\n",
    "            joke = get_random_joke()\n",
    "            speak(joke)\n",
    "            speak(\"For your convenience, I am printing it on the screen sir.\")\n",
    "            pprint(joke)\n",
    "\n",
    "        elif \"advice\" in query:\n",
    "            speak(f\"Here's an advice for you, sir\")\n",
    "            advice = get_random_advice()\n",
    "            speak(advice)\n",
    "            speak(\"For your convenience, I am printing it on the screen sir.\")\n",
    "            pprint(advice)\n",
    "\n",
    "        elif \"trending movies\" in query:\n",
    "            speak(f\"Some of the trending movies are: {get_trending_movies()}\")\n",
    "            speak(\"For your convenience, I am printing it on the screen sir.\")\n",
    "            print(*get_trending_movies(), sep='\\n')\n",
    "\n",
    "        elif 'news' in query:\n",
    "            speak(f\"I'm reading out the latest news headlines, sir\")\n",
    "            speak(get_latest_news())\n",
    "            speak(\"For your convenience, I am printing it on the screen sir.\")\n",
    "            print(*get_latest_news(), sep='\\n')\n",
    "\n",
    "        elif 'weather' in query:\n",
    "            ip_address = find_my_ip()\n",
    "            city = requests.get(f\"https://ipapi.co/{ip_address}/city/\").text\n",
    "            speak(f\"Getting weather report for your city {city}\")\n",
    "            weather, temperature, feels_like = get_weather_report(city)\n",
    "            speak(f\"The current temperature is {temperature}, but it feels like {feels_like}\")\n",
    "            speak(f\"Also, the weather report talks about {weather}\")\n",
    "            speak(\"For your convenience, I am printing it on the screen sir.\")\n",
    "            print(f\"Description: {weather}\\nTemperature: {temperature}\\nFeels like: {feels_like}\")\n"
   ]
  },
  {
   "cell_type": "code",
   "execution_count": null,
   "metadata": {},
   "outputs": [],
   "source": []
  },
  {
   "cell_type": "code",
   "execution_count": null,
   "metadata": {},
   "outputs": [],
   "source": []
  },
  {
   "cell_type": "code",
   "execution_count": null,
   "metadata": {},
   "outputs": [],
   "source": []
  }
 ],
 "metadata": {
  "kernelspec": {
   "display_name": "Python 3",
   "language": "python",
   "name": "python3"
  },
  "language_info": {
   "codemirror_mode": {
    "name": "ipython",
    "version": 3
   },
   "file_extension": ".py",
   "mimetype": "text/x-python",
   "name": "python",
   "nbconvert_exporter": "python",
   "pygments_lexer": "ipython3",
   "version": "3.8.5"
  }
 },
 "nbformat": 4,
 "nbformat_minor": 4
}
